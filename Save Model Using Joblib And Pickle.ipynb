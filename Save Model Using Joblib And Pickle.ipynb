{
 "cells": [
  {
   "cell_type": "markdown",
   "id": "965acef9-f15b-4b14-8f15-dbea06629f04",
   "metadata": {},
   "source": [
    "# Pickle"
   ]
  },
  {
   "cell_type": "markdown",
   "id": "194e8b6f-2829-4573-9509-6362a45f5e30",
   "metadata": {},
   "source": [
    "pickle is a built-in Python module used to serialize and deserialize Python objects. In simple terms:\n",
    "\n",
    "Serialization (Pickling): Converting a Python object (like a model, list, or dictionary) into a byte stream (a format that can be saved to a file or sent over a network).\n",
    "\n",
    "Deserialization (Unpickling): Reconstructing the object from the byte stream back into Python.\n",
    "\n",
    "\n",
    "🔹 Why Use Pickle?\n",
    "\n",
    "1. Save trained ML models to disk.\n",
    "\n",
    "2. Share Python objects across different programs or sessions.\n",
    "\n",
    "3. Avoid recomputation by storing intermediate results."
   ]
  },
  {
   "cell_type": "markdown",
   "id": "9b26b8b6-91d7-429f-aab5-91205db8c5cd",
   "metadata": {},
   "source": [
    "#### 1. Save Model"
   ]
  },
  {
   "cell_type": "code",
   "execution_count": 1,
   "id": "3d77af5a-5c6f-4bae-9955-0aa9a4490ab6",
   "metadata": {},
   "outputs": [
    {
     "name": "stdout",
     "output_type": "stream",
     "text": [
      "Predicted Price for X : [200000. 250000. 300000. 350000. 400000.]\n",
      "Coeffecient m: [100.]\n",
      "Inrecept b: 100000.0\n",
      "Predicted Price for 2200 sq.ft : [320000.]\n"
     ]
    }
   ],
   "source": [
    "# Predict house prices based on the square footage of homes.\n",
    "\n",
    "import numpy as np\n",
    "import matplotlib.pyplot as plt\n",
    "from sklearn.linear_model import LinearRegression\n",
    "from sklearn.metrics import mean_squared_error\n",
    "from sklearn.metrics import r2_score\n",
    "\n",
    "import pickle\n",
    "\n",
    "\n",
    "# Step 1: Define data\n",
    " \n",
    "X = np.array([1000, 1500, 2000, 2500, 3000]).reshape(-1,1)  # Square Feet & .reshape(-1,1) --> It’s reshaping a 1D array into a 2D column vector\n",
    "Y = np.array([200000, 250000, 300000, 350000, 400000])      # Price\n",
    "\n",
    "\n",
    "# Step 2: Create and train the model\n",
    "\n",
    "Model = LinearRegression()\n",
    "Model.fit(X,Y)\n",
    "\n",
    "\n",
    "# Step 3: Make predictions\n",
    "\n",
    "Y_pred = Model.predict(X)\n",
    "print(\"Predicted Price for X :\", Y_pred)\n",
    "\n",
    "\n",
    "# Step 4: Output coefficients \n",
    "\n",
    "print(\"Coeffecient m:\", Model.coef_)\n",
    "print(\"Inrecept b:\", Model.intercept_)\n",
    "\n",
    "\n",
    "# Step 5: Predict price for 2200 sq ft\n",
    "\n",
    "Pred = Model.predict([[2200]])\n",
    "print(\"Predicted Price for 2200 sq.ft :\", Pred)\n",
    "\n",
    "\n",
    "\n",
    "# Save the model\n",
    "\n",
    "with open('LinearRegression_Model.pickle', 'wb') as f:\n",
    "\n",
    "    pickle.dump(Model,f)\n"
   ]
  },
  {
   "cell_type": "markdown",
   "id": "013e61f6-f009-46be-b59f-9db76201d598",
   "metadata": {},
   "source": [
    "#### 2. Load Model"
   ]
  },
  {
   "cell_type": "code",
   "execution_count": 5,
   "id": "11b241ca-9c4d-4854-a091-b828350eb575",
   "metadata": {},
   "outputs": [
    {
     "name": "stdout",
     "output_type": "stream",
     "text": [
      "Predicted Price for 3000 sq.ft : [400000.]\n",
      "Coeffecient m: [100.]\n",
      "Inrecept b: 100000.0\n"
     ]
    }
   ],
   "source": [
    "# Load the model\n",
    "\n",
    "with open('LinearRegression_Model.pickle', 'rb') as f:\n",
    "\n",
    "    LR_pkl = pickle.load(f)\n",
    "\n",
    "\n",
    "# Predict price for 3000 sq ft\n",
    "\n",
    "LoadedModel = LR_pkl.predict([[3000]])\n",
    "\n",
    "print(\"Predicted Price for 3000 sq.ft :\", LoadedModel)\n",
    "\n",
    "\n",
    "# Output coefficients \n",
    "\n",
    "print(\"Coeffecient m:\", Model.coef_)\n",
    "print(\"Inrecept b:\", Model.intercept_)\n"
   ]
  },
  {
   "cell_type": "markdown",
   "id": "1a406fb4-4fd4-44fe-ba02-12066b945bcf",
   "metadata": {},
   "source": [
    "# Joblib"
   ]
  },
  {
   "cell_type": "markdown",
   "id": "8947d3f5-d91e-4f36-86c5-2b6385f350ca",
   "metadata": {},
   "source": [
    "joblib is a Python library designed for:\n",
    "\n",
    "🔹Saving and loading large data or machine learning models efficiently\n",
    "\n",
    "🔹Parallel processing (though that’s a separate feature)\n",
    "\n",
    "🔹It's especially optimized for numerical arrays (like NumPy), which makes it ideal for scikit-learn models, or any object with large datasets."
   ]
  },
  {
   "cell_type": "markdown",
   "id": "11d716d7-de57-4442-a69c-b14195583e7b",
   "metadata": {},
   "source": [
    "🧠 Key Features of joblib:\n",
    "\n",
    "1. Faster and more memory-efficient than pickle for large data (e.g., models with NumPy arrays)\n",
    "\n",
    "2. Compresses files automatically (optional)\n",
    "\n",
    "3. Easy syntax for saving/loading objects"
   ]
  },
  {
   "cell_type": "markdown",
   "id": "edcdaf64-5d44-4a45-93a9-4c5ecfb52453",
   "metadata": {},
   "source": [
    "#### 1. Save Model"
   ]
  },
  {
   "cell_type": "code",
   "execution_count": 7,
   "id": "848b9ddb-81e6-48c6-bb83-b6a1a2b85ab9",
   "metadata": {},
   "outputs": [
    {
     "name": "stdout",
     "output_type": "stream",
     "text": [
      "Predicted Price for X : [200000. 250000. 300000. 350000. 400000.]\n",
      "Coeffecient m: [100.]\n",
      "Inrecept b: 100000.0\n",
      "Predicted Price for 2200 sq.ft : [320000.]\n"
     ]
    },
    {
     "data": {
      "text/plain": [
       "['LinearRegression_Model.joblib']"
      ]
     },
     "execution_count": 7,
     "metadata": {},
     "output_type": "execute_result"
    }
   ],
   "source": [
    "# Predict house prices based on the square footage of homes.\n",
    "\n",
    "import numpy as np\n",
    "import matplotlib.pyplot as plt\n",
    "from sklearn.linear_model import LinearRegression\n",
    "from sklearn.metrics import mean_squared_error\n",
    "from sklearn.metrics import r2_score\n",
    "\n",
    "import joblib\n",
    "\n",
    "\n",
    "# Step 1: Define data\n",
    " \n",
    "X = np.array([1000, 1500, 2000, 2500, 3000]).reshape(-1,1)  # Square Feet & .reshape(-1,1) --> It’s reshaping a 1D array into a 2D column vector\n",
    "Y = np.array([200000, 250000, 300000, 350000, 400000])      # Price\n",
    "\n",
    "\n",
    "# Step 2: Create and train the model\n",
    "\n",
    "Model = LinearRegression()\n",
    "Model.fit(X,Y)\n",
    "\n",
    "\n",
    "# Step 3: Make predictions\n",
    "\n",
    "Y_pred = Model.predict(X)\n",
    "print(\"Predicted Price for X :\", Y_pred)\n",
    "\n",
    "\n",
    "# Step 4: Output coefficients \n",
    "\n",
    "print(\"Coeffecient m:\", Model.coef_)\n",
    "print(\"Inrecept b:\", Model.intercept_)\n",
    "\n",
    "\n",
    "# Step 5: Predict price for 2200 sq ft\n",
    "\n",
    "Pred = Model.predict([[2200]])\n",
    "print(\"Predicted Price for 2200 sq.ft :\", Pred)\n",
    "\n",
    "\n",
    "\n",
    "# Save the model\n",
    "\n",
    "joblib.dump(Model,'LinearRegression_Model.joblib')\n"
   ]
  },
  {
   "cell_type": "markdown",
   "id": "76bf515e-253b-4a3c-9193-e4103794e51b",
   "metadata": {},
   "source": [
    "#### 2. Load Model"
   ]
  },
  {
   "cell_type": "code",
   "execution_count": 11,
   "id": "0f22374a-ad02-4971-9e9b-0f3679f5a685",
   "metadata": {},
   "outputs": [
    {
     "name": "stdout",
     "output_type": "stream",
     "text": [
      "Predicted Price for 3000 sq.ft : [400000.]\n",
      "Coeffecient m: [100.]\n",
      "Inrecept b: 100000.0\n"
     ]
    }
   ],
   "source": [
    "# Load the model\n",
    "\n",
    "LR_jb = joblib.load('LinearRegression_Model.joblib')\n",
    "\n",
    "\n",
    "# Predict price for 3000 sq ft\n",
    "\n",
    "LoadedModel_1 = LR_jb.predict([[3000]])\n",
    "print(\"Predicted Price for 3000 sq.ft :\", LoadedModel_1)\n",
    "\n",
    "# Output coefficients \n",
    "\n",
    "print(\"Coeffecient m:\", Model.coef_)\n",
    "print(\"Inrecept b:\", Model.intercept_)\n"
   ]
  },
  {
   "attachments": {
    "42e7526f-00f1-4d21-96d0-244f434742d3.png": {
     "image/png": "[encoded data removed]"
    }
   },
   "cell_type": "markdown",
   "id": "4d3045a0-d620-4699-90a2-23376b2ae8fd",
   "metadata": {},
   "source": [
    "![image.png](attachment:42e7526f-00f1-4d21-96d0-244f434742d3.png)"
   ]
  },
  {
   "attachments": {
    "eb8347eb-4d95-4124-bf86-09e64e04dc2b.png": {
     "image/png": "[encoded data removed]"
    }
   },
   "cell_type": "markdown",
   "id": "285b87ef-afff-40a9-87f5-509a49b7afc3",
   "metadata": {},
   "source": [
    "![image.png](attachment:eb8347eb-4d95-4124-bf86-09e64e04dc2b.png)"
   ]
  },
  {
   "cell_type": "code",
   "execution_count": null,
   "id": "2b9d51ad-d6ef-4fc4-a0ff-ea78a73e4ee9",
   "metadata": {},
   "outputs": [],
   "source": []
  }
 ],
 "metadata": {
  "kernelspec": {
   "display_name": "Python [conda env:base] *",
   "language": "python",
   "name": "conda-base-py"
  },
  "language_info": {
   "codemirror_mode": {
    "name": "ipython",
    "version": 3
   },
   "file_extension": ".py",
   "mimetype": "text/x-python",
   "name": "python",
   "nbconvert_exporter": "python",
   "pygments_lexer": "ipython3",
   "version": "3.12.7"
  }
 },
 "nbformat": 4,
 "nbformat_minor": 5
}
