{
 "cells": [
  {
   "cell_type": "markdown",
   "id": "bcbd11f8-21eb-47ac-900a-403d5ea07fd1",
   "metadata": {},
   "source": [
    "# Training and Testing Data "
   ]
  },
  {
   "cell_type": "markdown",
   "id": "f81f3b0a-0536-44b5-9736-b71fe41d16be",
   "metadata": {},
   "source": [
    "In machine learning, we split data into training and testing sets to build and evaluate models in a reliable, unbiased way."
   ]
  },
  {
   "cell_type": "markdown",
   "id": "a08e4c67-9a07-44ed-ab71-091eedf8f987",
   "metadata": {},
   "source": [
    "## 1. Training Data"
   ]
  },
  {
   "cell_type": "markdown",
   "id": "8e50e29f-45c5-4dab-bd4c-2c179250d63c",
   "metadata": {},
   "source": [
    "Used to train the model — i.e., help the algorithm learn patterns and relationships in the data.\n",
    "\n",
    "The model adjusts its parameters (like weights in linear regression) using this data.\n",
    "\n",
    "Typically 70–80% of the total dataset."
   ]
  },
  {
   "cell_type": "markdown",
   "id": "241ee268-dfdb-4f30-bee8-2fa15ece2079",
   "metadata": {},
   "source": [
    "## 2. Testing Data"
   ]
  },
  {
   "cell_type": "markdown",
   "id": "f0f4d490-50a4-4db6-b10e-6ba40dbc37ee",
   "metadata": {},
   "source": [
    "Used to evaluate how well the trained model performs on unseen data.\n",
    "\n",
    "It should never be used during training.\n",
    "\n",
    "Typically 20–30% of the dataset.\n",
    "\n",
    "Helps measure real-world performance and generalization."
   ]
  },
  {
   "cell_type": "markdown",
   "id": "920d3033-5415-4bb3-844b-2aaa30005ac1",
   "metadata": {},
   "source": [
    "📊 Why the Split?\n",
    "\n",
    "1. Prevents overfitting: a model might memorize the training data but fail on new data.\n",
    "\n",
    "2. Ensures the model is tested on data it hasn't seen before — like real-life situations."
   ]
  },
  {
   "attachments": {
    "1ab776db-7d76-4861-93b3-101497616adb.png": {
     "image/png": "[encoded data removed]"
    }
   },
   "cell_type": "markdown",
   "id": "245fe0cc-0b33-4366-b275-fec5f9b04bbb",
   "metadata": {},
   "source": [
    "![image.png](attachment:1ab776db-7d76-4861-93b3-101497616adb.png)"
   ]
  },
  {
   "cell_type": "code",
   "execution_count": 44,
   "id": "c30ccd6f-73e9-459f-8b3d-2ae5ec00cdc8",
   "metadata": {},
   "outputs": [
    {
     "name": "stdout",
     "output_type": "stream",
     "text": [
      "Training Features:    square_feet  bedrooms  age\n",
      "1         1500         3    5\n",
      "3         1700         4    2\n",
      "0         1000         2   10\n",
      "\n",
      " Training Target: 1    300000\n",
      "3    400000\n",
      "0    200000\n",
      "Name: price, dtype: int64\n",
      "\n",
      " Testing Features:    square_feet  bedrooms  age\n",
      "2         1200         2   20\n",
      "4         1300         3    7\n",
      "\n",
      " Testing Target: 2    220000\n",
      "4    280000\n",
      "Name: price, dtype: int64\n",
      "\n",
      " Predicted Prices: [-299994.11771626  270588.58131081]\n",
      "\n",
      " Actual Prices: [220000, 280000]\n",
      "\n",
      " Mean Squared Error (MSE): 135241228630.62845\n",
      "\n",
      " R² Score: -149.26803181180938\n",
      "\n",
      " Model Score: -149.26803181180938\n"
     ]
    }
   ],
   "source": [
    "# Example 1:\n",
    "\n",
    "import pandas as pd\n",
    "from sklearn.model_selection import train_test_split\n",
    "from sklearn.linear_model import LinearRegression\n",
    "from sklearn.metrics import mean_squared_error, r2_score\n",
    "\n",
    "# Step 1: Create a Dataset\n",
    "\n",
    "data = pd.DataFrame({\n",
    "    'square_feet': [1000, 1500, 1200, 1700, 1300],\n",
    "    'bedrooms': [2, 3, 2, 4, 3],\n",
    "    'age': [10, 5, 20, 2, 7],\n",
    "    'price': [200000, 300000, 220000, 400000, 280000]  # Target variable\n",
    "})\n",
    "\n",
    "\n",
    "\n",
    "# Step 2: Separate features (X) and target (y)\n",
    "\n",
    "x = data[['square_feet','bedrooms','age']]\n",
    "y = data['price']\n",
    "\n",
    "\n",
    "# Step 3: Split the dataset into training and testing sets\n",
    "\n",
    "x_train, x_test, y_train, y_test = train_test_split(x,y, test_size = 0.3)\n",
    "\n",
    "\n",
    "# Step 4: View the results\n",
    "\n",
    "print(\"Training Features:\", x_train)\n",
    "print(\"\\n Training Target:\", y_train)\n",
    "print(\"\\n Testing Features:\", x_test)\n",
    "print(\"\\n Testing Target:\", y_test)\n",
    "\n",
    "\n",
    "# Step 5: Create & Train a Regression Model\n",
    "\n",
    "Model = LinearRegression()\n",
    "\n",
    "Model.fit(x_train, y_train)\n",
    "\n",
    "\n",
    "# Step 6: Make predictions on the test set\n",
    "\n",
    "y_pred = Model.predict(x_test)\n",
    "\n",
    "\n",
    "# Step 7: Evaluate model performance\n",
    "\n",
    "MSE = mean_squared_error(y_test,y_pred)\n",
    "\n",
    "R2 = r2_score(y_test,y_pred)\n",
    "\n",
    "M_Score = Model.score(x_test,y_test)\n",
    "\n",
    "# Step 6: Output results\n",
    "\n",
    "print(\"\\n Predicted Prices:\", y_pred)\n",
    "print(\"\\n Actual Prices:\", list(y_test))\n",
    "\n",
    "print(\"\\n Mean Squared Error (MSE):\", MSE)\n",
    "print(\"\\n R² Score:\", R2)\n",
    "print(\"\\n Model Score:\", M_Score)\n"
   ]
  },
  {
   "attachments": {
    "e88c1f8b-d06b-42b0-98ef-c6d1fa9ed59c.png": {
     "image/png": "[encoded data removed]"
    }
   },
   "cell_type": "markdown",
   "id": "a8d8c42d-07e2-433e-ab10-7dff9f569951",
   "metadata": {},
   "source": [
    "![image.png](attachment:e88c1f8b-d06b-42b0-98ef-c6d1fa9ed59c.png)"
   ]
  },
  {
   "cell_type": "markdown",
   "id": "a4eb0551-41e1-4c01-a500-d75839e25e25",
   "metadata": {},
   "source": [
    "## Random state"
   ]
  },
  {
   "cell_type": "markdown",
   "id": "132cdabf-b35d-468e-a4bf-534c7a42204c",
   "metadata": {},
   "source": [
    "In scikit-learn, the random_state parameter is used to control the shuffling applied before splitting your data into training and testing sets."
   ]
  },
  {
   "cell_type": "markdown",
   "id": "f82943cf-1ada-410e-a464-6e4c203fb349",
   "metadata": {},
   "source": [
    "✅ Purpose of random_state:\n",
    "\n",
    "1. It ensures reproducibility.\n",
    "   \n",
    "2. Every time you run the code with the same random_state, you'll get the same split of data."
   ]
  },
  {
   "cell_type": "markdown",
   "id": "67073a15-ec17-4a97-964f-29ec33bb2672",
   "metadata": {},
   "source": [
    "\n",
    "📌 When to Use:\n",
    "\n",
    "Always use a random_state (like 42 or 0) when you want your results to be consistent during debugging or experimentation.\n",
    "\n",
    "In production or final models, it's okay to drop it for more randomized training."
   ]
  },
  {
   "cell_type": "code",
   "execution_count": 42,
   "id": "ddbdf573-51a1-40fa-9ce9-12f9955b3e6c",
   "metadata": {},
   "outputs": [
    {
     "name": "stdout",
     "output_type": "stream",
     "text": [
      "\n",
      " Training Features:     Mileage  Age(yrs)\n",
      "11    79000         7\n",
      "3     22500         2\n",
      "18    87600         8\n",
      "16    28000         2\n",
      "13    58780         4\n",
      "2     57000         5\n",
      "9     67000         6\n",
      "19    52000         5\n",
      "4     46000         4\n",
      "12    59000         5\n",
      "7     72000         6\n",
      "10    83000         7\n",
      "14    82450         7\n",
      "6     52000         5\n",
      "\n",
      " Training Target: 11    19500\n",
      "3     40000\n",
      "18    12800\n",
      "16    35500\n",
      "13    27500\n",
      "2     26100\n",
      "9     22000\n",
      "19    28200\n",
      "4     31500\n",
      "12    26000\n",
      "7     19300\n",
      "10    18700\n",
      "14    19400\n",
      "6     32000\n",
      "Name: Sell Price($), dtype: int64\n",
      "\n",
      " Testing Features:     Mileage  Age(yrs)\n",
      "0     69000         6\n",
      "17    69000         5\n",
      "15    25400         3\n",
      "1     35000         3\n",
      "8     91000         8\n",
      "5     59000         5\n",
      "\n",
      " Testing Target: 0     18000\n",
      "17    19700\n",
      "15    35000\n",
      "1     34000\n",
      "8     12000\n",
      "5     26750\n",
      "Name: Sell Price($), dtype: int64\n",
      "\n",
      " Predicted Prices: [22451.34756242 22668.06439958 38329.70942843 34976.70876322\n",
      " 14333.9540303  26160.77342585]\n",
      "\n",
      " Actual Prices: [18000, 19700, 35000, 34000, 12000, 26750]\n",
      "\n",
      " Mean Squared Error (MSE): 7743225.94312054\n",
      "\n",
      " R² Score: 0.891119923071878\n",
      "\n",
      " Model Score: 0.891119923071878\n"
     ]
    },
    {
     "data": {
      "image/png": "[encoded data removed]",
      "text/plain": [
       "<Figure size 640x480 with 1 Axes>"
      ]
     },
     "metadata": {},
     "output_type": "display_data"
    }
   ],
   "source": [
    "# Example 2:\n",
    "\n",
    "import pandas as pd\n",
    "import matplotlib.pyplot as plt\n",
    "from sklearn.model_selection import train_test_split\n",
    "from sklearn.linear_model import LinearRegression\n",
    "\n",
    "\n",
    "# Step 1: Define the Dataset\n",
    "\n",
    "df = pd.read_csv(r\"C:\\Users\\admin\\Downloads\\carprices.csv\")\n",
    "\n",
    "plt.scatter(df['Mileage'],df['Sell Price($)'])\n",
    "plt.scatter(df['Age(yrs)'],df['Sell Price($)'])\n",
    "\n",
    "# Step 2: Separate features (X) and target (y)\n",
    "\n",
    "X = df[['Mileage','Age(yrs)']]\n",
    "y = df['Sell Price($)']\n",
    "\n",
    "\n",
    "# Step 3: Split the dataset into training and testing sets\n",
    "\n",
    "X_train, X_test, y_train, y_test = train_test_split(X,y,test_size=0.3, random_state = 42) \n",
    "\n",
    "print(\"\\n Training Features:\", X_train)\n",
    "print(\"\\n Training Target:\", y_train)\n",
    "print(\"\\n Testing Features:\", X_test)\n",
    "print(\"\\n Testing Target:\", y_test)\n",
    "\n",
    "\n",
    "# Step 4: Create & Train a Regression Model\n",
    "\n",
    "Model = LinearRegression()\n",
    "\n",
    "Model.fit(X_train, y_train)\n",
    "\n",
    "\n",
    "# Step 5: Make predictions on the test set\n",
    "\n",
    "y_pred = Model.predict(X_test)\n",
    "\n",
    "\n",
    "# Step 6: Evaluate model performance\n",
    "\n",
    "MSE = mean_squared_error(y_test,y_pred)\n",
    "\n",
    "R2 = r2_score(y_test,y_pred)\n",
    "\n",
    "M_Score = Model.score(X_test,y_test)\n",
    "\n",
    "\n",
    "# Step 7: Output results\n",
    "\n",
    "print(\"\\n Predicted Prices:\", y_pred)\n",
    "print(\"\\n Actual Prices:\", list(y_test))\n",
    "\n",
    "print(\"\\n Mean Squared Error (MSE):\", MSE)\n",
    "print(\"\\n R² Score:\", R2)\n",
    "print(\"\\n Model Score:\", M_Score)\n"
   ]
  },
  {
   "cell_type": "markdown",
   "id": "71a2329e-bb4e-412a-9483-113018371ada",
   "metadata": {},
   "source": []
  }
 ],
 "metadata": {
  "kernelspec": {
   "display_name": "Python [conda env:base] *",
   "language": "python",
   "name": "conda-base-py"
  },
  "language_info": {
   "codemirror_mode": {
    "name": "ipython",
    "version": 3
   },
   "file_extension": ".py",
   "mimetype": "text/x-python",
   "name": "python",
   "nbconvert_exporter": "python",
   "pygments_lexer": "ipython3",
   "version": "3.12.7"
  }
 },
 "nbformat": 4,
 "nbformat_minor": 5
}
